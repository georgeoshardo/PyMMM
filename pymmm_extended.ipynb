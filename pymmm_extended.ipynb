{
 "cells": [
  {
   "cell_type": "code",
   "execution_count": 1,
   "id": "3c5caaf1",
   "metadata": {},
   "outputs": [],
   "source": [
    "import yaml\n",
    "import nd2\n",
    "import dask.array as da\n",
    "import zarr\n",
    "import numpy as np"
   ]
  },
  {
   "cell_type": "code",
   "execution_count": null,
   "id": "35ed7972",
   "metadata": {},
   "outputs": [],
   "source": []
  },
  {
   "cell_type": "code",
   "execution_count": null,
   "id": "1751b64a",
   "metadata": {},
   "outputs": [],
   "source": [
    "class PyMMMExperiment:\n",
    "    def __init__(self, config_path):\n",
    "        with open(config_path, 'r') as f:\n",
    "            self.config = yaml.safe_load(f)\n",
    "\n",
    "        self.data_path = self.config['data_source']['path']"
   ]
  }
 ],
 "metadata": {
  "kernelspec": {
   "display_name": "PyMMM",
   "language": "python",
   "name": "python3"
  },
  "language_info": {
   "codemirror_mode": {
    "name": "ipython",
    "version": 3
   },
   "file_extension": ".py",
   "mimetype": "text/x-python",
   "name": "python",
   "nbconvert_exporter": "python",
   "pygments_lexer": "ipython3",
   "version": "3.12.9"
  }
 },
 "nbformat": 4,
 "nbformat_minor": 5
}
