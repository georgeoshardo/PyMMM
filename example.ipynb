{
 "cells": [
  {
   "cell_type": "markdown",
   "id": "79bfd79d-ac97-413b-9851-a8db42b6397b",
   "metadata": {},
   "source": [
    "# PyMMM: Python Mother Machine Manager"
   ]
  },
  {
   "cell_type": "code",
   "execution_count": null,
   "id": "1f84885d-6c76-4bf7-b5cd-2066a0d7790c",
   "metadata": {},
   "outputs": [],
   "source": [
    "from PyMMM_main.Experiment.experiment import * "
   ]
  },
  {
   "cell_type": "code",
   "execution_count": null,
   "id": "3743b408-235a-4655-9a00-7da9e46edfab",
   "metadata": {},
   "outputs": [],
   "source": [
    "os.getcwd()"
   ]
  },
  {
   "cell_type": "markdown",
   "id": "26bb404a-c1c7-4e03-8731-b99bcacef0b5",
   "metadata": {},
   "source": [
    "The first thing to do is to define your experiment's directory, and instantite an `Experiment` object using that directory.\n",
    "Let's also print the experiment's properties"
   ]
  },
  {
   "cell_type": "code",
   "execution_count": null,
   "id": "8db8fc8b-2f27-43fb-b060-7b4fbac53064",
   "metadata": {},
   "outputs": [],
   "source": [
    "directory = os.getcwd()\n",
    "my_experiment = Experiment(\n",
    "    directory,  \n",
    "    save_filetype=\"png\"\n",
    ")\n",
    "print(my_experiment)"
   ]
  },
  {
   "cell_type": "markdown",
   "id": "f87b2f47-1480-408b-9c3a-0136d22b05c8",
   "metadata": {},
   "source": [
    "Here, we can choose the times and FOVs to take forward for registration"
   ]
  },
  {
   "cell_type": "code",
   "execution_count": null,
   "id": "ac4da2c2-5033-432d-b0f0-3d28592336c5",
   "metadata": {},
   "outputs": [],
   "source": [
    "#my_experiment.set_analysis_times(0, 50)\n",
    "my_experiment.discard_FOVs([f\"xy0{str(x).zfill(2)}\" for x in range(30, 32)]) "
   ]
  },
  {
   "cell_type": "code",
   "execution_count": null,
   "id": "adadb828-db86-44d4-a901-6170356364ba",
   "metadata": {},
   "outputs": [],
   "source": [
    "my_experiment.FOVs"
   ]
  },
  {
   "cell_type": "markdown",
   "id": "dffeaa5a-d278-41a6-8fb9-a2a57ede9f05",
   "metadata": {},
   "source": [
    "### Let's now ensure the quality of the data\n",
    "\n",
    "We're going to register the images to minimise the effects of stage drift.\n",
    "\n",
    "* First we will set the experiment's registration channel, here we are using `\"PC\"` for phase contrast."
   ]
  },
  {
   "cell_type": "code",
   "execution_count": null,
   "id": "65a340a2-b6f9-42e4-bea8-a8c9ba9ac269",
   "metadata": {},
   "outputs": [],
   "source": [
    "my_experiment.registration_channel = \"PC\""
   ]
  },
  {
   "cell_type": "markdown",
   "id": "87072a76-c8de-439e-b8e3-43e6ae2edcd2",
   "metadata": {},
   "source": [
    "Next we will do two things:\n",
    "* The first is to calculate mean images for the experiment. These are average images which will be used for image registration\n",
    "* By default, PyMMM takes an average over the last 15 images of the experiment, as the experiment's stage drift has likely stopped by then.\n",
    "* We can also rotate the mean image if the experiment was not properly aligned. This will rotate the mean images, and all other images will be registered against them, rotating them in the process.\n",
    "* Let's just check our experiment without the rotation argument."
   ]
  },
  {
   "cell_type": "code",
   "execution_count": null,
   "id": "7755419a-6b74-46f3-9b8b-2f7e8228a80f",
   "metadata": {},
   "outputs": [],
   "source": [
    "my_experiment.mean_amount = 10"
   ]
  },
  {
   "cell_type": "code",
   "execution_count": null,
   "id": "0d10503f-56dc-4f73-a28b-c5bba967f04a",
   "metadata": {},
   "outputs": [],
   "source": [
    "my_experiment.get_mean_images(plot = True)"
   ]
  },
  {
   "cell_type": "markdown",
   "id": "417f6214-edea-4876-afa0-fe5cf63d627b",
   "metadata": {},
   "source": [
    "It looks like there's some rotation in our experiment. Let's rotate the images and recalculate the mean images."
   ]
  },
  {
   "cell_type": "code",
   "execution_count": null,
   "id": "7e216b4b-a31d-4ddd-aaa6-e3fffe34eef8",
   "metadata": {},
   "outputs": [],
   "source": [
    "my_experiment.get_mean_images(rotation = 0.9, plot = True)"
   ]
  },
  {
   "cell_type": "code",
   "execution_count": null,
   "id": "3388c528-d0d5-4409-898b-dbe2727be644",
   "metadata": {},
   "outputs": [],
   "source": [
    "my_experiment.rotation"
   ]
  },
  {
   "cell_type": "markdown",
   "id": "f4cc4c5a-b30f-4480-a19e-79cb8818e7f1",
   "metadata": {},
   "source": [
    "That's looking much better.\n",
    "* We can now register the images. We only need to do this once, so we can check whether the experiment has already been registered with the `is_registered` property.\n",
    "* Here we check if an experiment is registered, and not, we register it with all of our CPU cores.\n",
    "* There is also a `force` argument, which if set to `True` will overwrite any previous registered images."
   ]
  },
  {
   "cell_type": "code",
   "execution_count": null,
   "id": "97c4214c-b3ca-4e81-b6a8-49082f2bae0d",
   "metadata": {},
   "outputs": [],
   "source": [
    "my_experiment.register_experiment(force=True, mode=5, sum=False, n_jobs = -1,  y_lims = (300,900), x_lims = (0,-1))"
   ]
  },
  {
   "cell_type": "markdown",
   "id": "188153ff-f395-40ea-ab6e-fd165005c260",
   "metadata": {},
   "source": [
    "### Let's now find the trenches\n",
    "\n",
    "There are several methods you can use to explore the experiment:"
   ]
  },
  {
   "cell_type": "code",
   "execution_count": null,
   "id": "e7a8c8df-3b6b-45f1-9c5d-5838129a0a30",
   "metadata": {},
   "outputs": [],
   "source": [
    "#Indexing using numbers\n",
    "an_image = my_experiment.get_image(FOV = 1, channel = 0, time = 1, plot = True, registered = True)\n",
    "#Indexing using channel and FOV names\n",
    "#an_image = my_experiment.get_image(FOV = \"A23\", channel = \"Green\", time = 1, plot = True, registered = True)"
   ]
  },
  {
   "cell_type": "code",
   "execution_count": null,
   "id": "d35b8728-e39c-4d12-9df7-dd09e42157b0",
   "metadata": {},
   "outputs": [],
   "source": [
    "#Getting the mean of a timestack for a particular FOV\n",
    "a_mean_image = my_experiment.get_mean_of_timestack(1, 1, plot=True)"
   ]
  },
  {
   "cell_type": "code",
   "execution_count": null,
   "id": "949b819b-32b3-461e-a3a0-aeb6e04a0bcc",
   "metadata": {},
   "outputs": [],
   "source": [
    "mean_timestacks = [my_experiment.get_mean_of_timestack(FOV, \"PC\", ) for FOV in my_experiment.FOVs]"
   ]
  },
  {
   "cell_type": "markdown",
   "id": "ae6551c5-e21e-42cd-8554-9696f0663079",
   "metadata": {},
   "source": [
    "### Finding the x limits"
   ]
  },
  {
   "cell_type": "code",
   "execution_count": null,
   "id": "4dd9a358-7f83-4d20-9158-74c75275a93a",
   "metadata": {},
   "outputs": [],
   "source": [
    "# Getting the mean of the timestack over the x direction\n",
    "a_t_x_mean = my_experiment.mean_t_x(1, my_experiment.registration_channel, plot = True)"
   ]
  },
  {
   "cell_type": "code",
   "execution_count": null,
   "id": "ee513588-4e34-4012-b25f-dd72e9c09e9b",
   "metadata": {},
   "outputs": [],
   "source": [
    "#Adding a gaussian blurring using the sigma argument\n",
    "sigma = 4\n",
    "\n",
    "# Use a convolution filter if gaussian blurring isn't working well\n",
    "a_t_x_mean = my_experiment.mean_t_x(1, my_experiment.registration_channel, sigma = sigma, plot = True)\n",
    "f = deepcopy(a_t_x_mean[175:300])\n",
    "plt.plot(f)"
   ]
  },
  {
   "cell_type": "code",
   "execution_count": null,
   "id": "2f762a44-380f-417b-9df8-73be6b708109",
   "metadata": {},
   "outputs": [],
   "source": [
    "# Now finding trench peaks for a particular FOV, giving a distance argument, and using our sigma value from before\n",
    "distance = 100\n",
    "prominence=10\n",
    "peaks = my_experiment.find_trench_peaks(0, \n",
    "                                        my_experiment.registration_channel, \n",
    "                                        sigma = sigma, distance = distance, \n",
    "                                        prominence=prominence, \n",
    "                                        conv_filter=f,\n",
    "                                        plot = True)\n",
    "print(my_experiment.dims)"
   ]
  },
  {
   "cell_type": "markdown",
   "id": "b333f93b-74c4-41ac-897a-d0170ffb4168",
   "metadata": {},
   "source": [
    "We've found good values for `sigma` and `distance`.\n",
    "Let's now call `find_all_trench_x_positions` on the phase contrast channel to identify all the x limits of the trenches in every FOV"
   ]
  },
  {
   "cell_type": "code",
   "execution_count": null,
   "id": "a7e5afe5-2b20-4d38-9c37-27fc8bc7fc38",
   "metadata": {},
   "outputs": [],
   "source": [
    "trench_x_positions = my_experiment.find_all_trench_x_positions(my_experiment.registration_channel, \n",
    "                                                               sigma = sigma, \n",
    "                                                               distance = distance, \n",
    "                                                               prominence=prominence, \n",
    "                                                               conv_filter=f,\n",
    "                                                               shrink_scale = 4, \n",
    "                                                               trench_width = 128,\n",
    "                                                               use_exact_trench_width = True, \n",
    "                                                               plot = False, \n",
    "                                                               plot_save=True)"
   ]
  },
  {
   "cell_type": "markdown",
   "id": "11629e1a-3c2a-41b4-9251-f79c57598ed7",
   "metadata": {},
   "source": [
    "### Discard any bad trenches"
   ]
  },
  {
   "cell_type": "code",
   "execution_count": null,
   "id": "94e7e203-f80d-46a2-bd37-30fcec50646f",
   "metadata": {},
   "outputs": [],
   "source": [
    "my_experiment.discard_trenches([20,21,30,202,203,216,217,263,264,268])"
   ]
  },
  {
   "cell_type": "markdown",
   "id": "c644960a-c49a-4371-a6f8-1fa52c6c3218",
   "metadata": {},
   "source": [
    "### Finding the y limits\n",
    "So we've successfully found the x limits of the trenches. Let's now find the y limits"
   ]
  },
  {
   "cell_type": "code",
   "execution_count": null,
   "id": "f0e247c7-d464-4496-bd86-a50b83c0b6ba",
   "metadata": {},
   "outputs": [],
   "source": [
    "#Adding a gaussian blurring using the sigma argument\n",
    "sigma = 40\n",
    "a_t_y_mean = my_experiment.mean_t_y(1, my_experiment.registration_channel, sigma = sigma, plot = True)"
   ]
  },
  {
   "cell_type": "code",
   "execution_count": null,
   "id": "5483bcc5-3161-42ed-a61d-d3456a263474",
   "metadata": {},
   "outputs": [],
   "source": [
    "#Adding a gaussian blurring using the sigma argument\n",
    "sigma = 40\n",
    "height = 5000\n",
    "distance = my_experiment.dims[0]\n",
    "a_t_y_mean, y_peak = my_experiment.find_lane_peaks(1, sigma = sigma, distance = distance, height=height, plot = True)"
   ]
  },
  {
   "cell_type": "code",
   "execution_count": null,
   "id": "9f4bc28f-200f-41eb-8b5a-dc2f6a9070af",
   "metadata": {},
   "outputs": [],
   "source": [
    "y_peaks = {FOV: my_experiment.find_lane_peaks(FOV, sigma=sigma, distance=distance, height=height, plot=True)[1] for FOV in my_experiment.FOVs}"
   ]
  },
  {
   "cell_type": "markdown",
   "id": "63e377de-c04b-4117-8815-57d84bb872f7",
   "metadata": {},
   "source": [
    "Set the y offsets from the halo (knowing the trench length can be helpful here)"
   ]
  },
  {
   "cell_type": "code",
   "execution_count": null,
   "id": "57a36fd3-024b-465f-ae15-d79529ed6c98",
   "metadata": {},
   "outputs": [],
   "source": [
    "my_experiment.trench_y_offsets = (1152, 272)"
   ]
  },
  {
   "cell_type": "markdown",
   "id": "8f054106-f338-4604-ad34-64daf3c438d8",
   "metadata": {},
   "source": [
    "Check that only one y peak has been found for each FOV"
   ]
  },
  {
   "cell_type": "code",
   "execution_count": null,
   "id": "eb4b167f-fd8e-41a0-af9a-f8b2f26dd9b2",
   "metadata": {},
   "outputs": [],
   "source": [
    "y_peaks"
   ]
  },
  {
   "cell_type": "markdown",
   "id": "c3e0d0ab-6987-4f0e-a36b-420541f9a3e0",
   "metadata": {},
   "source": [
    "Find the y limits"
   ]
  },
  {
   "cell_type": "code",
   "execution_count": null,
   "id": "d2a0bf7d-4c51-4191-8a97-6ba39a2072cf",
   "metadata": {},
   "outputs": [],
   "source": [
    "y_peaks = my_experiment.find_all_trench_y_positions_PC(channel=my_experiment.PC_channel,sigma=sigma,distance=distance,height=height,plot=False, plot_save=True)"
   ]
  },
  {
   "cell_type": "markdown",
   "id": "fac84605-1b4c-409d-9307-fdd914b8fa00",
   "metadata": {},
   "source": [
    "### Extract the trenches as png"
   ]
  },
  {
   "cell_type": "code",
   "execution_count": null,
   "id": "4f3eade5-05e8-4538-aee9-f779c3f300c4",
   "metadata": {},
   "outputs": [],
   "source": [
    "my_experiment.extract_trenches(force=True)"
   ]
  },
  {
   "cell_type": "code",
   "execution_count": null,
   "id": "ddd896e3-831c-415b-bfe7-c5f04a376d2d",
   "metadata": {},
   "outputs": [],
   "source": [
    "print(len(os.listdir(\"trenches\")))"
   ]
  },
  {
   "cell_type": "markdown",
   "id": "2d7ff5c1-5caf-4f19-94f0-a5891e6a03b7",
   "metadata": {},
   "source": [
    "### Extract trenches as zarr"
   ]
  },
  {
   "cell_type": "code",
   "execution_count": null,
   "id": "9b28af6c-f194-49be-bf20-60aa9e9ed47c",
   "metadata": {},
   "outputs": [],
   "source": [
    "import zarr\n",
    "from numcodecs import Blosc\n",
    "from glob import glob\n",
    "import numpy as np\n",
    "\n",
    "n_trenches = 0\n",
    "for FOV in my_experiment.FOVs:\n",
    "    x_pos = my_experiment.pruned_experiment_trench_x_lims[FOV]\n",
    "    n_trenches += len(x_pos)\n",
    "\n",
    "trench_num = 0\n",
    "trench_id_dict = dict()\n",
    "for FOV in my_experiment.FOVs:\n",
    "    y_pos = my_experiment.y_peaks[FOV][0]\n",
    "    x_pos = my_experiment.pruned_experiment_trench_x_lims[FOV]\n",
    "    trenches_id = []\n",
    "    if type(x_pos) == dict:\n",
    "        for key, value in x_pos.items():\n",
    "            trenches_id.append([value, y_pos, trench_num])\n",
    "            trench_num += 1\n",
    "        trench_id_dict[FOV] = trenches_id\n",
    "    else:\n",
    "        for i, (L, R) in enumerate(x_pos):\n",
    "            trenches_id.append([(L,R), y_pos, trench_num])\n",
    "            trench_num += 1\n",
    "        trench_id_dict[FOV] = trenches_id\n",
    "\n",
    "if type(x_pos) == dict:\n",
    "    trench_x_size = list(x_pos.values())[0][1] - list(x_pos.values())[0][0]\n",
    "else:\n",
    "    trench_x_size = x_pos[0][1] - x_pos[0][0]\n",
    "trench_y_size = my_experiment.trench_y_offsets[0] - my_experiment.trench_y_offsets[1]\n",
    "compressor = Blosc(cname='zstd', clevel=9, shuffle=Blosc.BITSHUFFLE)\n",
    "z1 = zarr.open(f'{my_experiment.directory}/trenches.zarr', mode='w', shape=(n_trenches, len(my_experiment.times), len(my_experiment.channels), trench_y_size, trench_x_size),\n",
    "                chunks=(1,1,1,trench_y_size, trench_x_size), dtype='uint16', compressor = compressor)\n",
    "\n",
    "\n",
    "def extract_trenches_from_image(FOV, t, time, c, channel):\n",
    "    image = my_experiment.get_image(FOV, channel, time, registered=my_experiment.is_registered)\n",
    "    for (L, R), y_pos, tr in trench_id_dict[FOV]:\n",
    "            trench = image[y_pos - my_experiment.trench_y_offsets[0]:y_pos - my_experiment.trench_y_offsets[1], L:R]\n",
    "            z1[tr,t,c] = trench\n",
    "\n",
    "a = list(product(trench_id_dict.keys(), enumerate(my_experiment.times), enumerate(my_experiment.channels)))\n",
    "\n",
    "Parallel(n_jobs=-1)(delayed(extract_trenches_from_image)(FOV, t, time, c, channel) for FOV, (t, time), (c, channel) in tqdm(a))"
   ]
  },
  {
   "cell_type": "markdown",
   "id": "ee7ca4f7-77c5-4a40-8c9f-0abc30bf0da5",
   "metadata": {},
   "source": [
    "### Save trench zarr metadata to json files\n",
    "Aim here is to create a loadable mapping from the trench zarr indices to the information which was available prior to extraction. Three json files are created. When loaded back as a dictionary, the key of the dictionary corresponds to the relevant index of the trench zarr.\n",
    "* A mapping from zarr trench number -> FOV\n",
    "* A mapping from zarr timepoint -> experiment time point (could be a useful record if any time points were discarded)\n",
    "* A mapping from zarr channel index -> channel string"
   ]
  },
  {
   "cell_type": "code",
   "execution_count": null,
   "id": "75660ac2-cdf1-4c41-9c7c-85917fbecdd1",
   "metadata": {},
   "outputs": [],
   "source": [
    "import json"
   ]
  },
  {
   "cell_type": "code",
   "execution_count": null,
   "id": "abaf0b3a-cc85-485b-8caa-6e187277a14c",
   "metadata": {},
   "outputs": [],
   "source": [
    "trench_num = 0\n",
    "FOV_to_trench_dict = dict()\n",
    "for FOV in my_experiment.FOVs:\n",
    "    y_pos = my_experiment.y_peaks[FOV][0]\n",
    "    x_pos = my_experiment.pruned_experiment_trench_x_lims[FOV]\n",
    "    FOV_to_trench = []\n",
    "    if type(x_pos) == dict:\n",
    "        for key, value in x_pos.items():\n",
    "            FOV_to_trench.append(trench_num)\n",
    "            trench_num += 1\n",
    "    else:\n",
    "        for i, (L, R) in enumerate(x_pos):\n",
    "            FOV_to_trench.append(trench_num)\n",
    "            trench_num += 1\n",
    "    FOV_to_trench_dict[FOV] = FOV_to_trench"
   ]
  },
  {
   "cell_type": "code",
   "execution_count": null,
   "id": "b14131d2-b7c7-44a2-8e83-a5314754f40f",
   "metadata": {},
   "outputs": [],
   "source": [
    "### invert the mapping, i.e index in zarr array is a dict key which maps to experimental metadata\n",
    "trench_to_FOV_dict = dict()\n",
    "for key, value in FOV_to_trench_dict.items():\n",
    "    for tr in value:\n",
    "        trench_to_FOV_dict[tr] = key\n",
    "trench_to_FOV_dict"
   ]
  },
  {
   "cell_type": "code",
   "execution_count": null,
   "id": "ff209303-c1b6-4fbb-a768-82d343ee07c6",
   "metadata": {},
   "outputs": [],
   "source": [
    "nd2_file = \"20230803_SB7_segmentation\"  # could be imported from nd2 metadata json\n",
    "\n",
    "file = \"metadata_trench_zarr_FOVs_\" + nd2_file + \".json\"\n",
    "with open(file, 'w') as f: \n",
    "    json.dump(trench_to_FOV_dict, f)"
   ]
  },
  {
   "cell_type": "code",
   "execution_count": null,
   "id": "6eb6dd32-6497-4cd4-831f-6379b594d75a",
   "metadata": {},
   "outputs": [],
   "source": [
    "channel_info_dict = dict()\n",
    "for count, channel in enumerate(my_experiment.channels):\n",
    "    channel_info_dict[str(count)] = channel\n",
    "    \n",
    "file = \"metadata_trench_zarr_channels_\" + nd2_file + \".json\"\n",
    "with open(file, 'w') as f: \n",
    "    json.dump(channel_info_dict, f)"
   ]
  },
  {
   "cell_type": "code",
   "execution_count": null,
   "id": "63ca4a3e-a92c-4c90-b1dc-0f8501566b09",
   "metadata": {},
   "outputs": [],
   "source": [
    "trench_zarr_times = dict()\n",
    "times = my_experiment.times\n",
    "for idx, value in enumerate(times):\n",
    "    trench_zarr_times[idx] = value\n",
    "    \n",
    "file = \"metadata_trench_zarr_times_\" + nd2_file + \".json\"\n",
    "with open(file, 'w') as f: \n",
    "    json.dump(trench_zarr_times, f)"
   ]
  },
  {
   "cell_type": "code",
   "execution_count": null,
   "id": "90b235d3-e5e4-45d0-b751-568dc97f405c",
   "metadata": {},
   "outputs": [],
   "source": [
    "# to load in a json as a dictionary\n",
    "with open(file, 'r') as f:\n",
    "    test = json.load(f)\n",
    "test"
   ]
  }
 ],
 "metadata": {
  "kernelspec": {
   "display_name": "Python 3 (ipykernel)",
   "language": "python",
   "name": "python3"
  },
  "language_info": {
   "codemirror_mode": {
    "name": "ipython",
    "version": 3
   },
   "file_extension": ".py",
   "mimetype": "text/x-python",
   "name": "python",
   "nbconvert_exporter": "python",
   "pygments_lexer": "ipython3",
   "version": "3.9.7"
  }
 },
 "nbformat": 4,
 "nbformat_minor": 5
}
